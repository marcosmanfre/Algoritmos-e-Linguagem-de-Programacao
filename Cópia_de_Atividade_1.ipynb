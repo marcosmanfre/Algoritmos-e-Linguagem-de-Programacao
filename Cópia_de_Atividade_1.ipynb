{
  "nbformat": 4,
  "nbformat_minor": 0,
  "metadata": {
    "colab": {
      "name": "Cópia de Atividade 1.ipynb",
      "provenance": [],
      "collapsed_sections": [],
      "authorship_tag": "ABX9TyMuA4m56Hyyrd/G0NByNwrz"
    },
    "kernelspec": {
      "name": "python3",
      "display_name": "Python 3"
    }
  },
  "cells": [
    {
      "cell_type": "markdown",
      "metadata": {
        "id": "TEElGH-AqU_Y"
      },
      "source": [
        "Aluno: Marcos Antônio Manfré Rós"
      ]
    },
    {
      "cell_type": "markdown",
      "metadata": {
        "id": "9tpPb9pW-raf"
      },
      "source": [
        "Atividade 1\n",
        "\n",
        "Exércicios do 1 ao 10"
      ]
    },
    {
      "cell_type": "markdown",
      "metadata": {
        "id": "noNBNg0PyQ9d"
      },
      "source": [
        "1."
      ]
    },
    {
      "cell_type": "code",
      "metadata": {
        "colab": {
          "base_uri": "https://localhost:8080/"
        },
        "id": "d16G54a3wsHL",
        "outputId": "188f9492-f2cc-4e1b-f79e-aaa365d18a10"
      },
      "source": [
        "x = 0.0\n",
        "type (x)"
      ],
      "execution_count": null,
      "outputs": [
        {
          "output_type": "execute_result",
          "data": {
            "text/plain": [
              "float"
            ]
          },
          "metadata": {
            "tags": []
          },
          "execution_count": 21
        }
      ]
    },
    {
      "cell_type": "code",
      "metadata": {
        "colab": {
          "base_uri": "https://localhost:8080/"
        },
        "id": "wO_V-6VSyNCm",
        "outputId": "f7be063b-89a6-4711-a1e4-f40f1827d7ad"
      },
      "source": [
        "y = 18\n",
        "type (y)"
      ],
      "execution_count": null,
      "outputs": [
        {
          "output_type": "execute_result",
          "data": {
            "text/plain": [
              "int"
            ]
          },
          "metadata": {
            "tags": []
          },
          "execution_count": 22
        }
      ]
    },
    {
      "cell_type": "code",
      "metadata": {
        "colab": {
          "base_uri": "https://localhost:8080/"
        },
        "id": "SsdHE-Ncx-TP",
        "outputId": "d2abdf7b-5874-4398-d632-e910cfb9b3ae"
      },
      "source": [
        "z = x + y\n",
        "print (z)\n",
        "type (z)"
      ],
      "execution_count": null,
      "outputs": [
        {
          "output_type": "stream",
          "text": [
            "18.0\n"
          ],
          "name": "stdout"
        },
        {
          "output_type": "execute_result",
          "data": {
            "text/plain": [
              "float"
            ]
          },
          "metadata": {
            "tags": []
          },
          "execution_count": 23
        }
      ]
    },
    {
      "cell_type": "markdown",
      "metadata": {
        "id": "xwjWkXOtyYY8"
      },
      "source": [
        "2"
      ]
    },
    {
      "cell_type": "code",
      "metadata": {
        "colab": {
          "base_uri": "https://localhost:8080/",
          "height": 180
        },
        "id": "MLlAx_oEyZpU",
        "outputId": "dc94a331-786e-4fe5-a6ed-f2eb9bb3cb81"
      },
      "source": [
        "a = 15\n",
        "print (A)"
      ],
      "execution_count": null,
      "outputs": [
        {
          "output_type": "error",
          "ename": "NameError",
          "evalue": "ignored",
          "traceback": [
            "\u001b[0;31m---------------------------------------------------------------------------\u001b[0m",
            "\u001b[0;31mNameError\u001b[0m                                 Traceback (most recent call last)",
            "\u001b[0;32m<ipython-input-25-265a80c1dcce>\u001b[0m in \u001b[0;36m<module>\u001b[0;34m()\u001b[0m\n\u001b[1;32m      1\u001b[0m \u001b[0ma\u001b[0m \u001b[0;34m=\u001b[0m \u001b[0;36m15\u001b[0m\u001b[0;34m\u001b[0m\u001b[0;34m\u001b[0m\u001b[0m\n\u001b[0;32m----> 2\u001b[0;31m \u001b[0mprint\u001b[0m \u001b[0;34m(\u001b[0m\u001b[0mA\u001b[0m\u001b[0;34m)\u001b[0m\u001b[0;34m\u001b[0m\u001b[0;34m\u001b[0m\u001b[0m\n\u001b[0m",
            "\u001b[0;31mNameError\u001b[0m: name 'A' is not defined"
          ]
        }
      ]
    },
    {
      "cell_type": "markdown",
      "metadata": {
        "id": "QE8-WqyJy9f7"
      },
      "source": [
        "a letra que recebeu a atribuição foi a minuscula, como a maiuscula não recebeu nada, o programa não encontra a atribuição.\n"
      ]
    },
    {
      "cell_type": "markdown",
      "metadata": {
        "id": "q6YYTg3kzRMp"
      },
      "source": [
        "3"
      ]
    },
    {
      "cell_type": "code",
      "metadata": {
        "colab": {
          "base_uri": "https://localhost:8080/"
        },
        "id": "fVClwLfPyi2m",
        "outputId": "0630dd0e-fa3b-4c4a-b3c2-3ffc4a61ed7d"
      },
      "source": [
        "A = \"Questão 3\"\n",
        "type (A)"
      ],
      "execution_count": null,
      "outputs": [
        {
          "output_type": "execute_result",
          "data": {
            "text/plain": [
              "str"
            ]
          },
          "metadata": {
            "tags": []
          },
          "execution_count": 31
        }
      ]
    },
    {
      "cell_type": "code",
      "metadata": {
        "colab": {
          "base_uri": "https://localhost:8080/"
        },
        "id": "ZotOW1ov4ICb",
        "outputId": "3e2dfb96-3f93-49b9-d8b1-ae2c0076ecd2"
      },
      "source": [
        "B = 25\n",
        "type (B)"
      ],
      "execution_count": null,
      "outputs": [
        {
          "output_type": "execute_result",
          "data": {
            "text/plain": [
              "int"
            ]
          },
          "metadata": {
            "tags": []
          },
          "execution_count": 35
        }
      ]
    },
    {
      "cell_type": "code",
      "metadata": {
        "colab": {
          "base_uri": "https://localhost:8080/"
        },
        "id": "G1bYUzfq4K7f",
        "outputId": "95b38e5f-6634-4348-a49b-77e1f0b5182a"
      },
      "source": [
        "C = 3.9\n",
        "type (C)"
      ],
      "execution_count": null,
      "outputs": [
        {
          "output_type": "execute_result",
          "data": {
            "text/plain": [
              "float"
            ]
          },
          "metadata": {
            "tags": []
          },
          "execution_count": 39
        }
      ]
    },
    {
      "cell_type": "markdown",
      "metadata": {
        "id": "-MTN9hU84YGS"
      },
      "source": [
        "4"
      ]
    },
    {
      "cell_type": "code",
      "metadata": {
        "colab": {
          "base_uri": "https://localhost:8080/"
        },
        "id": "9LkKwRVe4Yvu",
        "outputId": "7d6e6759-9c4f-4d6e-91b2-6fc3a3df1933"
      },
      "source": [
        "A = 14\n",
        "B = 5\n",
        "C = A + B\n",
        "print (C)"
      ],
      "execution_count": null,
      "outputs": [
        {
          "output_type": "stream",
          "text": [
            "19\n"
          ],
          "name": "stdout"
        }
      ]
    },
    {
      "cell_type": "code",
      "metadata": {
        "colab": {
          "base_uri": "https://localhost:8080/"
        },
        "id": "t4dqD2nF4ZLD",
        "outputId": "886df400-64c3-4fae-aa0d-89f3ab9115cf"
      },
      "source": [
        "A = 14\n",
        "B = 5\n",
        "C = A - B\n",
        "print (C)"
      ],
      "execution_count": null,
      "outputs": [
        {
          "output_type": "stream",
          "text": [
            "9\n"
          ],
          "name": "stdout"
        }
      ]
    },
    {
      "cell_type": "code",
      "metadata": {
        "colab": {
          "base_uri": "https://localhost:8080/"
        },
        "id": "GmnLKIgS5Kjq",
        "outputId": "167831d1-c94a-4e33-ab5b-ada6b731a679"
      },
      "source": [
        "A = 14\n",
        "B = 5\n",
        "C = A * B\n",
        "print (C)"
      ],
      "execution_count": null,
      "outputs": [
        {
          "output_type": "stream",
          "text": [
            "70\n"
          ],
          "name": "stdout"
        }
      ]
    },
    {
      "cell_type": "code",
      "metadata": {
        "colab": {
          "base_uri": "https://localhost:8080/"
        },
        "id": "RAscihLK5Q_f",
        "outputId": "939392be-7651-4b09-c2b4-d3b45cee103b"
      },
      "source": [
        "A = 14\n",
        "B = 5\n",
        "C = A / B\n",
        "print (C)"
      ],
      "execution_count": null,
      "outputs": [
        {
          "output_type": "stream",
          "text": [
            "2.8\n"
          ],
          "name": "stdout"
        }
      ]
    },
    {
      "cell_type": "code",
      "metadata": {
        "colab": {
          "base_uri": "https://localhost:8080/"
        },
        "id": "drQkjNVs5Sbs",
        "outputId": "a0642d70-b4df-43f9-e1fc-356bd8fd0a17"
      },
      "source": [
        "A = 14\n",
        "B = 5\n",
        "C = A // B\n",
        "print (C)"
      ],
      "execution_count": null,
      "outputs": [
        {
          "output_type": "stream",
          "text": [
            "2\n"
          ],
          "name": "stdout"
        }
      ]
    },
    {
      "cell_type": "code",
      "metadata": {
        "colab": {
          "base_uri": "https://localhost:8080/"
        },
        "id": "tvTjUWn15Ulc",
        "outputId": "38584027-1b0e-4ec7-9735-219ead85d0ce"
      },
      "source": [
        "A = 14\n",
        "B = 5\n",
        "C = A % B\n",
        "print (C)"
      ],
      "execution_count": null,
      "outputs": [
        {
          "output_type": "stream",
          "text": [
            "4\n"
          ],
          "name": "stdout"
        }
      ]
    },
    {
      "cell_type": "code",
      "metadata": {
        "colab": {
          "base_uri": "https://localhost:8080/"
        },
        "id": "99bEHbYB5Wf5",
        "outputId": "9087b826-25fb-4911-b386-4bed09d0562f"
      },
      "source": [
        "A = 14\n",
        "B = 5\n",
        "C = - A\n",
        "print (C)"
      ],
      "execution_count": null,
      "outputs": [
        {
          "output_type": "stream",
          "text": [
            "-14\n"
          ],
          "name": "stdout"
        }
      ]
    },
    {
      "cell_type": "code",
      "metadata": {
        "colab": {
          "base_uri": "https://localhost:8080/"
        },
        "id": "bQ0otxsx5apO",
        "outputId": "2d153c26-173a-45c5-8c98-cb2e157feabb"
      },
      "source": [
        "A = 14\n",
        "B = 5\n",
        "C = A ** B\n",
        "print (C)"
      ],
      "execution_count": null,
      "outputs": [
        {
          "output_type": "stream",
          "text": [
            "537824\n"
          ],
          "name": "stdout"
        }
      ]
    },
    {
      "cell_type": "markdown",
      "metadata": {
        "id": "kXG-RLnm6Ozb"
      },
      "source": [
        "5"
      ]
    },
    {
      "cell_type": "code",
      "metadata": {
        "colab": {
          "base_uri": "https://localhost:8080/"
        },
        "id": "GpaYGjW55c1A",
        "outputId": "9f12ad0c-c5fd-4a16-f4da-cd95adf8f414"
      },
      "source": [
        "Base = 9\n",
        "Altura = 6\n",
        "Calculo_Area = Base * Altura\n",
        "print (Calculo_Area)"
      ],
      "execution_count": null,
      "outputs": [
        {
          "output_type": "stream",
          "text": [
            "54\n"
          ],
          "name": "stdout"
        }
      ]
    },
    {
      "cell_type": "markdown",
      "metadata": {
        "id": "LAi0h2-T6w6E"
      },
      "source": [
        "6"
      ]
    },
    {
      "cell_type": "code",
      "metadata": {
        "colab": {
          "base_uri": "https://localhost:8080/"
        },
        "id": "vwx7CvEw6f0L",
        "outputId": "d9d53c65-596c-4aa7-8e22-7db54b43255f"
      },
      "source": [
        "Base = int (input (\"Digite a Base do Triangulo: \"))\n",
        "Altura = int (input (\"Digite a Altura do Triangulo: \"))\n",
        "Calculo_Area = Base * Altura\n",
        "print(Calculo_Area)"
      ],
      "execution_count": null,
      "outputs": [
        {
          "output_type": "stream",
          "text": [
            "Digite a Base do Triangulo: 9\n",
            "Digite a Altura do Triangulo: 6\n",
            "54\n"
          ],
          "name": "stdout"
        }
      ]
    },
    {
      "cell_type": "markdown",
      "metadata": {
        "id": "tXcIt1Rl88bJ"
      },
      "source": [
        "7\n"
      ]
    },
    {
      "cell_type": "code",
      "metadata": {
        "id": "CcFIgXHJ89TP",
        "colab": {
          "base_uri": "https://localhost:8080/"
        },
        "outputId": "3cfee730-8a1a-40e0-e120-454683f53929"
      },
      "source": [
        "valor_hora = float (input (\"Digite o valor da hora: \"))\n",
        "hora_trabalhada = int (input (\"Digite as horas trabalhadas: \"))\n",
        "qt_hora_extra = int (input (\"Digite as horas extras: \"))\n",
        "Hora_extra = (valor_hora * 2) * qt_hora_extra\n",
        "Salario_horas = valor_hora * hora_trabalhada\n",
        "Salario_Bruto = Salario_horas + Hora_extra\n",
        "print (\"O Salário bruto do profissional é de: \", end=\"\")\n",
        "print (Salario_Bruto)\n"
      ],
      "execution_count": null,
      "outputs": [
        {
          "output_type": "stream",
          "text": [
            "Digite o valor da hora: 14.25\n",
            "Digite as horas trabalhadas: 163\n",
            "Digite as horas extras: 20\n",
            "O Salário bruto do profissional é de: 2892.75\n"
          ],
          "name": "stdout"
        }
      ]
    },
    {
      "cell_type": "markdown",
      "metadata": {
        "id": "stgn6Szj-knn"
      },
      "source": [
        "8"
      ]
    },
    {
      "cell_type": "code",
      "metadata": {
        "id": "WGKHDXEd-lPt",
        "colab": {
          "base_uri": "https://localhost:8080/"
        },
        "outputId": "48fc9d3d-061a-4a23-bebe-fa40ff4a502a"
      },
      "source": [
        "A = 4\n",
        "B = 5\n",
        "C = 1\n",
        "R = (A + B) / 2\n",
        "print (R)"
      ],
      "execution_count": null,
      "outputs": [
        {
          "output_type": "stream",
          "text": [
            "4.5\n"
          ],
          "name": "stdout"
        }
      ]
    },
    {
      "cell_type": "code",
      "metadata": {
        "id": "lzO3NO8p_TkQ"
      },
      "source": [
        ""
      ],
      "execution_count": null,
      "outputs": []
    },
    {
      "cell_type": "markdown",
      "metadata": {
        "id": "GLsrXtYB-l62"
      },
      "source": [
        "9"
      ]
    },
    {
      "cell_type": "code",
      "metadata": {
        "id": "Tyxfy4m3-mOJ"
      },
      "source": [
        ""
      ],
      "execution_count": null,
      "outputs": []
    },
    {
      "cell_type": "markdown",
      "metadata": {
        "id": "ZfUX-kcy-mcD"
      },
      "source": [
        "10"
      ]
    },
    {
      "cell_type": "code",
      "metadata": {
        "colab": {
          "base_uri": "https://localhost:8080/",
          "height": 229
        },
        "id": "XM51jX5SD6yx",
        "outputId": "ee0762b7-220d-4efd-e7e5-d215d0e46ade"
      },
      "source": [
        "Qt_ven = int (input (\"digite a quantidade vendida: \"))\n",
        "Valor = float (input (\"digite o valor unitário: \"))\n",
        "Venda = qt_ven * valor\n",
        "print (Venda)"
      ],
      "execution_count": null,
      "outputs": [
        {
          "output_type": "stream",
          "text": [
            "digite a quantidade vendida: 17\n",
            "digite o valor unitário: 18\n"
          ],
          "name": "stdout"
        },
        {
          "output_type": "error",
          "ename": "TypeError",
          "evalue": "ignored",
          "traceback": [
            "\u001b[0;31m---------------------------------------------------------------------------\u001b[0m",
            "\u001b[0;31mTypeError\u001b[0m                                 Traceback (most recent call last)",
            "\u001b[0;32m<ipython-input-98-d475937f113b>\u001b[0m in \u001b[0;36m<module>\u001b[0;34m()\u001b[0m\n\u001b[1;32m      2\u001b[0m \u001b[0mValor\u001b[0m \u001b[0;34m=\u001b[0m \u001b[0mfloat\u001b[0m \u001b[0;34m(\u001b[0m\u001b[0minput\u001b[0m \u001b[0;34m(\u001b[0m\u001b[0;34m\"digite o valor unitário: \"\u001b[0m\u001b[0;34m)\u001b[0m\u001b[0;34m)\u001b[0m\u001b[0;34m\u001b[0m\u001b[0;34m\u001b[0m\u001b[0m\n\u001b[1;32m      3\u001b[0m \u001b[0mVenda\u001b[0m \u001b[0;34m=\u001b[0m \u001b[0mqt_ven\u001b[0m \u001b[0;34m*\u001b[0m \u001b[0mvalor\u001b[0m\u001b[0;34m\u001b[0m\u001b[0;34m\u001b[0m\u001b[0m\n\u001b[0;32m----> 4\u001b[0;31m \u001b[0mprint\u001b[0m \u001b[0;34m(\u001b[0m\u001b[0mVenda\u001b[0m\u001b[0;34m)\u001b[0m\u001b[0;34m\u001b[0m\u001b[0;34m\u001b[0m\u001b[0m\n\u001b[0m",
            "\u001b[0;31mTypeError\u001b[0m: 'float' object is not callable"
          ]
        }
      ]
    },
    {
      "cell_type": "markdown",
      "metadata": {
        "id": "ilFtrtgA-nUi"
      },
      "source": [
        "Exércicios do 1 ao 20"
      ]
    },
    {
      "cell_type": "markdown",
      "metadata": {
        "id": "_uf4PVMN-4Qu"
      },
      "source": [
        "1"
      ]
    },
    {
      "cell_type": "code",
      "metadata": {
        "colab": {
          "base_uri": "https://localhost:8080/"
        },
        "id": "bxlS03Mt-4m4",
        "outputId": "9354b19e-f3ce-4b84-fd28-2eccc1831b83"
      },
      "source": [
        "A = 0\n",
        "B = -3\n",
        "print (A > B)"
      ],
      "execution_count": null,
      "outputs": [
        {
          "output_type": "stream",
          "text": [
            "True\n"
          ],
          "name": "stdout"
        }
      ]
    },
    {
      "cell_type": "code",
      "metadata": {
        "colab": {
          "base_uri": "https://localhost:8080/"
        },
        "id": "kdrcYPye_fqb",
        "outputId": "896c0fb3-4a51-4905-af0d-9b5ac5c49d1a"
      },
      "source": [
        "X = 3.7\n",
        "print (X <= 10.0)"
      ],
      "execution_count": null,
      "outputs": [
        {
          "output_type": "stream",
          "text": [
            "True\n"
          ],
          "name": "stdout"
        }
      ]
    },
    {
      "cell_type": "code",
      "metadata": {
        "colab": {
          "base_uri": "https://localhost:8080/"
        },
        "id": "uVhu0xqo_rP1",
        "outputId": "149736e4-c5cf-4e71-e79e-cb42f7130d0e"
      },
      "source": [
        "A = 9\n",
        "B = 16\n",
        "print (A - B >= 0)"
      ],
      "execution_count": null,
      "outputs": [
        {
          "output_type": "stream",
          "text": [
            "False\n"
          ],
          "name": "stdout"
        }
      ]
    },
    {
      "cell_type": "code",
      "metadata": {
        "colab": {
          "base_uri": "https://localhost:8080/"
        },
        "id": "XNOKElbR_yYF",
        "outputId": "a8c33709-7eb5-4847-8df2-85e2a0f2f675"
      },
      "source": [
        "A = 2\n",
        "B = 4\n",
        "N = 10\n",
        "print (A * B < N)"
      ],
      "execution_count": null,
      "outputs": [
        {
          "output_type": "stream",
          "text": [
            "True\n"
          ],
          "name": "stdout"
        }
      ]
    },
    {
      "cell_type": "code",
      "metadata": {
        "colab": {
          "base_uri": "https://localhost:8080/"
        },
        "id": "Fy_WFIcW_8W1",
        "outputId": "50ff55f6-e038-41f0-a8a5-3e2d98709b0b"
      },
      "source": [
        "A = 3\n",
        "B = 9\n",
        "C = 5\n",
        "print (10 * A >= B * C)"
      ],
      "execution_count": null,
      "outputs": [
        {
          "output_type": "stream",
          "text": [
            "False\n"
          ],
          "name": "stdout"
        }
      ]
    },
    {
      "cell_type": "code",
      "metadata": {
        "colab": {
          "base_uri": "https://localhost:8080/"
        },
        "id": "ixPF1KGpAFXm",
        "outputId": "32d387ca-84c7-4b56-b94b-7a79627d0b63"
      },
      "source": [
        "A = 3\n",
        "B = 6\n",
        "C = 5\n",
        "print (10 * A >= B * C)"
      ],
      "execution_count": null,
      "outputs": [
        {
          "output_type": "stream",
          "text": [
            "True\n"
          ],
          "name": "stdout"
        }
      ]
    },
    {
      "cell_type": "code",
      "metadata": {
        "colab": {
          "base_uri": "https://localhost:8080/"
        },
        "id": "zKt49aWuAXCU",
        "outputId": "00fc2671-02ce-4229-c0fe-6101dd26e892"
      },
      "source": [
        "N = 7\n",
        "print (N % 2 == 0)"
      ],
      "execution_count": null,
      "outputs": [
        {
          "output_type": "stream",
          "text": [
            "False\n"
          ],
          "name": "stdout"
        }
      ]
    },
    {
      "cell_type": "code",
      "metadata": {
        "colab": {
          "base_uri": "https://localhost:8080/"
        },
        "id": "RiPciP4hAgOk",
        "outputId": "5f8a2a80-8f4b-4b13-a54e-a42cb78125cc"
      },
      "source": [
        "N = 8\n",
        "print (N % 2 ==0)"
      ],
      "execution_count": null,
      "outputs": [
        {
          "output_type": "stream",
          "text": [
            "True\n"
          ],
          "name": "stdout"
        }
      ]
    },
    {
      "cell_type": "code",
      "metadata": {
        "colab": {
          "base_uri": "https://localhost:8080/"
        },
        "id": "nK9LwOnXAkAD",
        "outputId": "6200236d-c095-4633-b397-a2d27d95cc27"
      },
      "source": [
        "T = \"MORANGO\"\n",
        "print (T == \"BANANA\")"
      ],
      "execution_count": null,
      "outputs": [
        {
          "output_type": "stream",
          "text": [
            "False\n"
          ],
          "name": "stdout"
        }
      ]
    },
    {
      "cell_type": "code",
      "metadata": {
        "colab": {
          "base_uri": "https://localhost:8080/"
        },
        "id": "HL1_EPZzAniz",
        "outputId": "331ccae4-a635-4609-88d3-d78777efd3e9"
      },
      "source": [
        "T = \"MORANGO\"\n",
        "T > \"BANANA\""
      ],
      "execution_count": null,
      "outputs": [
        {
          "output_type": "execute_result",
          "data": {
            "text/plain": [
              "True"
            ]
          },
          "metadata": {
            "tags": []
          },
          "execution_count": 69
        }
      ]
    },
    {
      "cell_type": "markdown",
      "metadata": {
        "id": "5uy7BZ5YA-CK"
      },
      "source": [
        "2"
      ]
    },
    {
      "cell_type": "code",
      "metadata": {
        "colab": {
          "base_uri": "https://localhost:8080/"
        },
        "id": "1a7DMdEjAyXS",
        "outputId": "5c8b8c63-5850-48b4-f203-58d39e67ff84"
      },
      "source": [
        "A = 10\n",
        "B = 15\n",
        "C = 4\n",
        "print (A < B and A < C)"
      ],
      "execution_count": null,
      "outputs": [
        {
          "output_type": "stream",
          "text": [
            "False\n"
          ],
          "name": "stdout"
        }
      ]
    },
    {
      "cell_type": "code",
      "metadata": {
        "colab": {
          "base_uri": "https://localhost:8080/"
        },
        "id": "xQddQsUEA--R",
        "outputId": "c0903912-a18f-4618-8485-72f632f53547"
      },
      "source": [
        "A = 10\n",
        "B = 15\n",
        "C = 4\n",
        "print (A < B or A < C)"
      ],
      "execution_count": null,
      "outputs": [
        {
          "output_type": "stream",
          "text": [
            "True\n"
          ],
          "name": "stdout"
        }
      ]
    },
    {
      "cell_type": "code",
      "metadata": {
        "colab": {
          "base_uri": "https://localhost:8080/"
        },
        "id": "kZPeD3jCB_5v",
        "outputId": "8981f030-f641-481e-c4a8-f7c7309100c5"
      },
      "source": [
        "A = 1\n",
        "B = 9\n",
        "C = 0\n",
        "print (A >= 0 and B == C)"
      ],
      "execution_count": null,
      "outputs": [
        {
          "output_type": "stream",
          "text": [
            "False\n"
          ],
          "name": "stdout"
        }
      ]
    },
    {
      "cell_type": "code",
      "metadata": {
        "colab": {
          "base_uri": "https://localhost:8080/"
        },
        "id": "K0nC8cQHCIzH",
        "outputId": "a8eeb1e0-0789-4040-ed72-6d2319e22a29"
      },
      "source": [
        "A = 1\n",
        "B = 9\n",
        "C = 9\n",
        "print (A >= 0 and B == C)"
      ],
      "execution_count": null,
      "outputs": [
        {
          "output_type": "stream",
          "text": [
            "True\n"
          ],
          "name": "stdout"
        }
      ]
    },
    {
      "cell_type": "code",
      "metadata": {
        "colab": {
          "base_uri": "https://localhost:8080/"
        },
        "id": "2dhctgOdCXCc",
        "outputId": "69e1897e-7eff-4fa4-8d0c-09ad37568852"
      },
      "source": [
        "A = 1\n",
        "B = 9\n",
        "C = 0\n",
        "print (A >= 0 or B == C)"
      ],
      "execution_count": null,
      "outputs": [
        {
          "output_type": "stream",
          "text": [
            "True\n"
          ],
          "name": "stdout"
        }
      ]
    },
    {
      "cell_type": "code",
      "metadata": {
        "colab": {
          "base_uri": "https://localhost:8080/"
        },
        "id": "SGMLkxrUChV8",
        "outputId": "82ac987d-6fa1-4a34-e97e-037297fbe042"
      },
      "source": [
        "A = 1\n",
        "B = 9\n",
        "C = 9\n",
        "print (A >= 0 or B == C)"
      ],
      "execution_count": null,
      "outputs": [
        {
          "output_type": "stream",
          "text": [
            "True\n"
          ],
          "name": "stdout"
        }
      ]
    },
    {
      "cell_type": "code",
      "metadata": {
        "colab": {
          "base_uri": "https://localhost:8080/"
        },
        "id": "xjwrYlAxC6Fs",
        "outputId": "c144c47c-215d-4521-8267-6880216a55b7"
      },
      "source": [
        "A = 0\n",
        "B = 0\n",
        "C = 0\n",
        "print (B !=0 and A != C)"
      ],
      "execution_count": null,
      "outputs": [
        {
          "output_type": "stream",
          "text": [
            "False\n"
          ],
          "name": "stdout"
        }
      ]
    },
    {
      "cell_type": "code",
      "metadata": {
        "colab": {
          "base_uri": "https://localhost:8080/"
        },
        "id": "DN23zSUVC7ob",
        "outputId": "b5616cd6-2d37-4355-84bd-f64c93f55db0"
      },
      "source": [
        "A = 0\n",
        "B = 0\n",
        "C = 25\n",
        "print (B != 0 and A != C)"
      ],
      "execution_count": null,
      "outputs": [
        {
          "output_type": "stream",
          "text": [
            "False\n"
          ],
          "name": "stdout"
        }
      ]
    },
    {
      "cell_type": "code",
      "metadata": {
        "colab": {
          "base_uri": "https://localhost:8080/"
        },
        "id": "vyOyeSy6DPst",
        "outputId": "8797965f-753d-424d-bb47-0386b6250912"
      },
      "source": [
        "A = 0\n",
        "B = 0\n",
        "C = 0\n",
        "print (B!= 0 or A != C)"
      ],
      "execution_count": null,
      "outputs": [
        {
          "output_type": "stream",
          "text": [
            "False\n"
          ],
          "name": "stdout"
        }
      ]
    },
    {
      "cell_type": "code",
      "metadata": {
        "colab": {
          "base_uri": "https://localhost:8080/"
        },
        "id": "qh1E4cJmDX-5",
        "outputId": "df8d18b3-37a7-4a3e-ab2c-58f238dde2d1"
      },
      "source": [
        "A = 0\n",
        "B = 0\n",
        "C = 25\n",
        "print ( B!= 0 or A != C)"
      ],
      "execution_count": null,
      "outputs": [
        {
          "output_type": "stream",
          "text": [
            "True\n"
          ],
          "name": "stdout"
        }
      ]
    },
    {
      "cell_type": "code",
      "metadata": {
        "id": "JsYnDJ5YhqPp"
      },
      "source": [
        ""
      ],
      "execution_count": null,
      "outputs": []
    },
    {
      "cell_type": "markdown",
      "metadata": {
        "id": "--5JAwTADi2a"
      },
      "source": [
        "3"
      ]
    },
    {
      "cell_type": "code",
      "metadata": {
        "id": "r56ZbQH-DjY4",
        "colab": {
          "base_uri": "https://localhost:8080/"
        },
        "outputId": "3ff1201b-0328-42ef-e83d-cbc8af7aa826"
      },
      "source": [
        "A = 10\n",
        "B = 15\n",
        "C = 4\n",
        "print (A < B and A < C or C != 0)"
      ],
      "execution_count": null,
      "outputs": [
        {
          "output_type": "stream",
          "text": [
            "True\n"
          ],
          "name": "stdout"
        }
      ]
    },
    {
      "cell_type": "code",
      "metadata": {
        "colab": {
          "base_uri": "https://localhost:8080/"
        },
        "id": "3nkvNIDeh2E_",
        "outputId": "a5360314-b79e-484d-d8c3-bc28a0b30c53"
      },
      "source": [
        "A = 10\n",
        "B = 15\n",
        "C = 4\n",
        "print (A < B and (A < C or C != 0))"
      ],
      "execution_count": null,
      "outputs": [
        {
          "output_type": "stream",
          "text": [
            "True\n"
          ],
          "name": "stdout"
        }
      ]
    },
    {
      "cell_type": "code",
      "metadata": {
        "colab": {
          "base_uri": "https://localhost:8080/"
        },
        "id": "aa90jzAuiE8L",
        "outputId": "9708a1f0-244c-4d83-ba7c-75fcb41f86a8"
      },
      "source": [
        "A = 1\n",
        "B = 9\n",
        "C = 0\n",
        "print (not (A >= 0 and B == C))"
      ],
      "execution_count": null,
      "outputs": [
        {
          "output_type": "stream",
          "text": [
            "True\n"
          ],
          "name": "stdout"
        }
      ]
    },
    {
      "cell_type": "code",
      "metadata": {
        "colab": {
          "base_uri": "https://localhost:8080/"
        },
        "id": "8GVKfzj2iOvZ",
        "outputId": "c72679b0-467a-4637-8be8-8344005c0317"
      },
      "source": [
        "A = 1\n",
        "B = 9\n",
        "C = 9\n",
        "print (not (A >= 0) and not (B == C))"
      ],
      "execution_count": null,
      "outputs": [
        {
          "output_type": "stream",
          "text": [
            "False\n"
          ],
          "name": "stdout"
        }
      ]
    },
    {
      "cell_type": "code",
      "metadata": {
        "colab": {
          "base_uri": "https://localhost:8080/"
        },
        "id": "WW2LO0zAiYkT",
        "outputId": "d0793dcf-4f51-4fd2-8f9c-4d2fc8ed3617"
      },
      "source": [
        "A = 1\n",
        "B = 9\n",
        "C = 0\n",
        "print ((A >= 0 or B == C) and B > A)"
      ],
      "execution_count": null,
      "outputs": [
        {
          "output_type": "stream",
          "text": [
            "True\n"
          ],
          "name": "stdout"
        }
      ]
    },
    {
      "cell_type": "code",
      "metadata": {
        "colab": {
          "base_uri": "https://localhost:8080/"
        },
        "id": "VDoq6C9miucq",
        "outputId": "344401a0-2079-4ea1-cc0c-d9aad39a052c"
      },
      "source": [
        "A = -2\n",
        "B = 0\n",
        "C = 2\n",
        "print (not (A <= B) or C > B)"
      ],
      "execution_count": null,
      "outputs": [
        {
          "output_type": "stream",
          "text": [
            "True\n"
          ],
          "name": "stdout"
        }
      ]
    },
    {
      "cell_type": "code",
      "metadata": {
        "colab": {
          "base_uri": "https://localhost:8080/"
        },
        "id": "QP1wgS8sjN5I",
        "outputId": "122e346d-672d-4ae6-8d1c-bf82e0fccdd9"
      },
      "source": [
        "A = -2\n",
        "B = 0\n",
        "C = 2\n",
        "print (not (A <= 0) or C > B)"
      ],
      "execution_count": null,
      "outputs": [
        {
          "output_type": "stream",
          "text": [
            "True\n"
          ],
          "name": "stdout"
        }
      ]
    },
    {
      "cell_type": "code",
      "metadata": {
        "colab": {
          "base_uri": "https://localhost:8080/"
        },
        "id": "ZrFfM1DLjTi-",
        "outputId": "fb09a3e7-c21e-41a6-d172-e9d3ad443d20"
      },
      "source": [
        "A = 0\n",
        "B = 1\n",
        "C = 0\n",
        "print (A == 0 and B != 0 and C == 0)"
      ],
      "execution_count": null,
      "outputs": [
        {
          "output_type": "stream",
          "text": [
            "True\n"
          ],
          "name": "stdout"
        }
      ]
    },
    {
      "cell_type": "code",
      "metadata": {
        "colab": {
          "base_uri": "https://localhost:8080/"
        },
        "id": "cT8QS-GZjcXh",
        "outputId": "54864a2d-14a7-4558-b09b-a9ae7b07bfe4"
      },
      "source": [
        "A = 5\n",
        "B = 0\n",
        "C = 0\n",
        "print (A == 0 and B != 0 and C == 0)"
      ],
      "execution_count": null,
      "outputs": [
        {
          "output_type": "stream",
          "text": [
            "False\n"
          ],
          "name": "stdout"
        }
      ]
    },
    {
      "cell_type": "code",
      "metadata": {
        "colab": {
          "base_uri": "https://localhost:8080/"
        },
        "id": "-gV1Mw--jgS_",
        "outputId": "31cff3f1-3c93-4eb9-db41-c260f959bfc0"
      },
      "source": [
        "A = 5\n",
        "B = 0\n",
        "C = 0\n",
        "print (A == 0 or B != 0 or C == 0)"
      ],
      "execution_count": null,
      "outputs": [
        {
          "output_type": "stream",
          "text": [
            "True\n"
          ],
          "name": "stdout"
        }
      ]
    },
    {
      "cell_type": "markdown",
      "metadata": {
        "id": "tDREwgODjo6m"
      },
      "source": [
        "4"
      ]
    },
    {
      "cell_type": "code",
      "metadata": {
        "colab": {
          "base_uri": "https://localhost:8080/"
        },
        "id": "a3_vnXozmYZV",
        "outputId": "bd8e8e5a-7bb1-4b3b-d646-b438c1f4f17f"
      },
      "source": [
        "N = int (input(\"Digite um número: \"))\n",
        "if N >= 0:\n",
        "  print (\"O número digitado é positivo\")\n",
        "else:\n",
        "  print (\"O número digitado é negativo\")"
      ],
      "execution_count": null,
      "outputs": [
        {
          "output_type": "stream",
          "text": [
            "Digite um número: 9\n",
            "O número digitado é positivo\n"
          ],
          "name": "stdout"
        }
      ]
    },
    {
      "cell_type": "markdown",
      "metadata": {
        "id": "JiGTWLuXoLcJ"
      },
      "source": [
        "5"
      ]
    },
    {
      "cell_type": "code",
      "metadata": {
        "colab": {
          "base_uri": "https://localhost:8080/"
        },
        "id": "uw9MIkvTnQYZ",
        "outputId": "fd8f54f6-7da7-4e2c-ef6c-13b061e01e16"
      },
      "source": [
        "N = int (input(\"Digite um número: \"))\n",
        "resultado = N % 2 \n",
        "if N == 0:\n",
        "  print (\"O número digitado é par\")\n",
        "else:\n",
        "  print (\"O número digitado é ímpar\")"
      ],
      "execution_count": null,
      "outputs": [
        {
          "output_type": "stream",
          "text": [
            "Digite um número: 9\n",
            "O número digitado é ímpar\n"
          ],
          "name": "stdout"
        }
      ]
    },
    {
      "cell_type": "markdown",
      "metadata": {
        "id": "sJNMF82ZrJDX"
      },
      "source": [
        "6"
      ]
    },
    {
      "cell_type": "code",
      "metadata": {
        "colab": {
          "base_uri": "https://localhost:8080/"
        },
        "id": "kAhbrkHzoMGM",
        "outputId": "54d77710-a19d-48d2-a64b-c80e6ab6aeef"
      },
      "source": [
        "a = int (input(\"Primeiro número: \"))\n",
        "b = int (input(\"Segundo número: \"))\n",
        "menor = a\n",
        "if b < a:\n",
        "  menor = b\n",
        "maior = a\n",
        "if b > a:\n",
        "  maior = b\n",
        "print (\"o menor valor digitado foi {}\".format(menor))\n",
        "print (\"o maior valor digitado foi {}\".format(maior))\n",
        "\n"
      ],
      "execution_count": null,
      "outputs": [
        {
          "output_type": "stream",
          "text": [
            "Primeiro número: 9\n",
            "Segundo número: 4\n",
            "o menor valor digitado foi 4\n",
            "o maior valor digitado foi 9\n"
          ],
          "name": "stdout"
        }
      ]
    },
    {
      "cell_type": "markdown",
      "metadata": {
        "id": "h_F4hXD2wgd8"
      },
      "source": [
        "7\n"
      ]
    },
    {
      "cell_type": "code",
      "metadata": {
        "colab": {
          "base_uri": "https://localhost:8080/"
        },
        "id": "O5xWIdznrLbM",
        "outputId": "b99dc7be-625a-4950-dca9-75c6affc0d0d"
      },
      "source": [
        "\n",
        "r1 = float (input (\"Primeiro número: \"))\n",
        "r2 = float (input (\"Segundo número: \"))\n",
        "r3 = float (input (\"Terceiro número: \"))\n",
        "if r1 < r2 + r3 and r2 < r1 + r3 and r3 < r1 + r2:\n",
        "  print (\"os números acima podem formar um triângulo \", end=\"\")\n",
        "  if r1 == r2 == r3:\n",
        "    print (\"Equiliátero!\")\n",
        "  elif r1 != r2 != r3 != r1:\n",
        "    print (\"Escaleno!\")\n",
        "  else:\n",
        "     print (\"Isóceles!\")\n",
        "else:\n",
        "  print (\"os números acima não podem formar triângulo\")"
      ],
      "execution_count": null,
      "outputs": [
        {
          "output_type": "stream",
          "text": [
            "Primeiro número: 4\n",
            "Segundo número: 2\n",
            "Terceiro número: 4\n",
            "os números acima podem formar um triângulo Isóceles!\n"
          ],
          "name": "stdout"
        }
      ]
    },
    {
      "cell_type": "markdown",
      "metadata": {
        "id": "fNLJu27w1FtS"
      },
      "source": [
        "8"
      ]
    },
    {
      "cell_type": "code",
      "metadata": {
        "colab": {
          "base_uri": "https://localhost:8080/",
          "height": 128
        },
        "id": "pT08E2X3FYiE",
        "outputId": "83bbe7b0-ce9c-406c-df54-0afe222eb411"
      },
      "source": [
        "nome = str (input(\"Digite o seu nome: \"))\n",
        "peso = int (input(\"Digite o seu peso: \"))\n",
        "print(\"o nome{}\".format(nome))\n",
        "if peso < 65:\n",
        "  print(\"Categoria: Pena\")\n",
        "elif peso => 65 and < 72:\n",
        "  print(\"Categoria: Leve\")\n",
        "elif peso => 72 and < 79:\n",
        "  print(\"Categoria: Ligeiro\")\n",
        "elif peso => 79 and < 86:\n",
        "  print(\"Categoria: Meio-médio\")\n",
        "elif peso => 86 and < 93:\n",
        "  print(\"Categoria: Médio\")\n",
        "elif peso => 93 and < 100:\n",
        "  print(\"Categoria: Meio-pesado\")\n",
        "elif peso => 100:\n",
        "  print(\"Categoria: Pesado\")\n"
      ],
      "execution_count": null,
      "outputs": [
        {
          "output_type": "error",
          "ename": "SyntaxError",
          "evalue": "ignored",
          "traceback": [
            "\u001b[0;36m  File \u001b[0;32m\"<ipython-input-1-6075148b58a7>\"\u001b[0;36m, line \u001b[0;32m6\u001b[0m\n\u001b[0;31m    elif peso => 65 and < 72:\u001b[0m\n\u001b[0m              ^\u001b[0m\n\u001b[0;31mSyntaxError\u001b[0m\u001b[0;31m:\u001b[0m invalid syntax\n"
          ]
        }
      ]
    },
    {
      "cell_type": "markdown",
      "metadata": {
        "id": "y5PLasp_4hjS"
      },
      "source": [
        "9"
      ]
    },
    {
      "cell_type": "code",
      "metadata": {
        "colab": {
          "base_uri": "https://localhost:8080/"
        },
        "id": "q07_tWbnz4jb",
        "outputId": "7d336a2c-ab25-4fe0-acb6-6ff7853b2849"
      },
      "source": [
        "salario = int (input (\"Digite o seu salário mensal: \"))\n",
        "hora_trabalhada = int (input (\"Digite as horas trabalhadas: \"))\n",
        "salario_horas = salario / hora_trabalhada\n",
        "print (\"O Salário bruto do profissional é de: \", end=\"\")\n",
        "print (salario_horas)\n",
        "\n",
        "\n",
        "\n",
        "\n"
      ],
      "execution_count": null,
      "outputs": [
        {
          "output_type": "stream",
          "text": [
            "Digite o seu salário mensal: 3000\n",
            "Digite as horas trabalhadas: 220\n",
            "O Salário bruto do profissional é de: 13.636363636363637\n"
          ],
          "name": "stdout"
        }
      ]
    },
    {
      "cell_type": "markdown",
      "metadata": {
        "id": "ZmrFyu7o2ARi"
      },
      "source": [
        "10"
      ]
    },
    {
      "cell_type": "code",
      "metadata": {
        "colab": {
          "base_uri": "https://localhost:8080/"
        },
        "id": "_xeH4Mmu2A1Y",
        "outputId": "e1fe5faf-0ec8-48a1-e66a-e95aecb55ffc"
      },
      "source": [
        "print (\"Iniciar programa\")\n",
        "Cont = 1\n",
        "while Cont <= 10:\n",
        "  print (Cont)\n",
        "  Cont = Cont + 1\n",
        "print (\"Fim\")"
      ],
      "execution_count": null,
      "outputs": [
        {
          "output_type": "stream",
          "text": [
            "Iniciar programa\n",
            "1\n",
            "2\n",
            "3\n",
            "4\n",
            "5\n",
            "6\n",
            "7\n",
            "8\n",
            "9\n",
            "10\n",
            "Fim\n"
          ],
          "name": "stdout"
        }
      ]
    },
    {
      "cell_type": "markdown",
      "metadata": {
        "id": "7oV0YFgy2gsE"
      },
      "source": [
        "11"
      ]
    },
    {
      "cell_type": "code",
      "metadata": {
        "colab": {
          "base_uri": "https://localhost:8080/"
        },
        "id": "3eDZHjSH2VX6",
        "outputId": "934d8a31-18ea-418b-9cc5-4ad0241a98b4"
      },
      "source": [
        "num = int (input(\"Digite um número para a sua tabuada: \"))\n",
        "print (\"{} x {:2} = {}\".format(num, 1, num*1))\n",
        "print (\"{} x {:2} = {}\".format(num, 2, num*2))\n",
        "print (\"{} x {:2} = {}\".format(num, 3, num*3))\n",
        "print (\"{} x {:2} = {}\".format(num, 4, num*4))\n",
        "print (\"{} x {:2} = {}\".format(num, 5, num*5))\n",
        "print (\"{} x {:2} = {}\".format(num, 6, num*6))\n",
        "print (\"{} x {:2} = {}\".format(num, 7, num*7))\n",
        "print (\"{} x {:2} = {}\".format(num, 8, num*8))\n",
        "print (\"{} x {:2} = {}\".format(num, 9, num*9))\n",
        "print (\"{} x {:2} = {}\".format(num, 10, num*10))"
      ],
      "execution_count": null,
      "outputs": [
        {
          "output_type": "stream",
          "text": [
            "Digite um número para a sua tabuada: 7\n",
            "7 x  1 = 7\n",
            "7 x  2 = 14\n",
            "7 x  3 = 21\n",
            "7 x  4 = 28\n",
            "7 x  5 = 35\n",
            "7 x  6 = 42\n",
            "7 x  7 = 49\n",
            "7 x  8 = 56\n",
            "7 x  9 = 63\n",
            "7 x 10 = 70\n"
          ],
          "name": "stdout"
        }
      ]
    },
    {
      "cell_type": "code",
      "metadata": {
        "id": "fHr_vsQh2iEN"
      },
      "source": [
        ""
      ],
      "execution_count": null,
      "outputs": []
    },
    {
      "cell_type": "markdown",
      "metadata": {
        "id": "l1DMtbpTaInM"
      },
      "source": [
        "12\n"
      ]
    },
    {
      "cell_type": "code",
      "metadata": {
        "id": "xJBwfgJ9aJmf"
      },
      "source": [
        "\n",
        "\n",
        "\n",
        "\n"
      ],
      "execution_count": null,
      "outputs": []
    },
    {
      "cell_type": "markdown",
      "metadata": {
        "id": "Mop5BTtqaJ9g"
      },
      "source": [
        "13"
      ]
    },
    {
      "cell_type": "code",
      "metadata": {
        "colab": {
          "base_uri": "https://localhost:8080/"
        },
        "id": "lOIsN5vbaKSq",
        "outputId": "7263044a-1212-438d-af8b-dd4a1b6377fe"
      },
      "source": [
        "Soma = 0\n",
        "Qtde = 0\n",
        "X = 1\n",
        "while X != 0:\n",
        "  X = int (input (\"Digite X:  \"))\n",
        "  if X != 0:\n",
        "    Soma = Soma + X\n",
        "    Qtde = Qtde + 1\n",
        "print (\"Total dos valores digitados = %d\" % Soma)\n",
        "print (\"Quantidade de valores = %d\" % Qtde)\n"
      ],
      "execution_count": null,
      "outputs": [
        {
          "output_type": "stream",
          "text": [
            "Digite X:  10\n",
            "Digite X:  40\n",
            "Digite X:  50\n",
            "Digite X:  3\n",
            "Digite X:  5\n",
            "Digite X:  6\n",
            "Digite X:  0\n",
            "Total dos valores digitados = 114\n",
            "Quantidade de valores = 6\n"
          ],
          "name": "stdout"
        }
      ]
    },
    {
      "cell_type": "markdown",
      "metadata": {
        "id": "bYTkTF84aKoO"
      },
      "source": [
        "14"
      ]
    },
    {
      "cell_type": "code",
      "metadata": {
        "id": "_-hsv7HVaK13"
      },
      "source": [
        ""
      ],
      "execution_count": null,
      "outputs": []
    },
    {
      "cell_type": "markdown",
      "metadata": {
        "id": "LKt7zwQ_aLEj"
      },
      "source": [
        "15"
      ]
    },
    {
      "cell_type": "code",
      "metadata": {
        "id": "BsfATEQiaLTn"
      },
      "source": [
        ""
      ],
      "execution_count": null,
      "outputs": []
    },
    {
      "cell_type": "markdown",
      "metadata": {
        "id": "f10ZlTx1aLgW"
      },
      "source": [
        "16"
      ]
    }
  ]
}